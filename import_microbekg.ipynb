{
 "cells": [
  {
   "cell_type": "code",
   "execution_count": 25,
   "metadata": {},
   "outputs": [],
   "source": [
    "import biocypher\n",
    "import pandas as pd\n"
   ]
  },
  {
   "cell_type": "code",
   "execution_count": 26,
   "metadata": {},
   "outputs": [],
   "source": [
    "trait_node_file = \"C:\\\\Users\\\\dgg32\\\\Documents\\\\microbekg\\\\kg-microbe\\\\data\\\\transformed\\\\condensed_traits_NCBI\\\\nodes.tsv\"\n",
    "trait_edge_file = \"C:\\\\Users\\\\dgg32\\\\Documents\\\\microbekg\\\\kg-microbe\\\\data\\\\transformed\\\\condensed_traits_NCBI\\\\edges.tsv\"\n",
    "\n",
    "ncbitaxon_nodes_file = \"C:\\\\Users\\\\dgg32\\\\Documents\\\\microbekg\\\\kg-microbe\\\\data\\\\transformed\\\\ontologies\\\\ncbitaxon_nodes.tsv\"\n",
    "ncbitaxon_edges_file = \"C:\\\\Users\\\\dgg32\\\\Documents\\\\microbekg\\\\kg-microbe\\\\data\\\\transformed\\\\ontologies\\\\ncbitaxon_edges.tsv\""
   ]
  },
  {
   "cell_type": "code",
   "execution_count": 27,
   "metadata": {},
   "outputs": [
    {
     "name": "stderr",
     "output_type": "stream",
     "text": [
      "C:\\Users\\dgg32\\AppData\\Local\\Temp\\ipykernel_14560\\1047065167.py:1: DtypeWarning: Columns (3) have mixed types. Specify dtype option on import or set low_memory=False.\n",
      "  ncbitaxon_nodes = pd.read_csv(ncbitaxon_nodes_file, sep=\"\\t\")\n"
     ]
    },
    {
     "data": {
      "text/html": [
       "<div>\n",
       "<style scoped>\n",
       "    .dataframe tbody tr th:only-of-type {\n",
       "        vertical-align: middle;\n",
       "    }\n",
       "\n",
       "    .dataframe tbody tr th {\n",
       "        vertical-align: top;\n",
       "    }\n",
       "\n",
       "    .dataframe thead th {\n",
       "        text-align: right;\n",
       "    }\n",
       "</style>\n",
       "<table border=\"1\" class=\"dataframe\">\n",
       "  <thead>\n",
       "    <tr style=\"text-align: right;\">\n",
       "      <th></th>\n",
       "      <th>id</th>\n",
       "      <th>category</th>\n",
       "      <th>name</th>\n",
       "      <th>description</th>\n",
       "      <th>xref</th>\n",
       "      <th>provided_by</th>\n",
       "      <th>synonym</th>\n",
       "      <th>iri</th>\n",
       "      <th>same_as</th>\n",
       "    </tr>\n",
       "  </thead>\n",
       "  <tbody>\n",
       "    <tr>\n",
       "      <th>0</th>\n",
       "      <td>NCBITaxon:1252590</td>\n",
       "      <td>biolink:OrganismalEntity</td>\n",
       "      <td>Ichneumonidae sp. BOLD:AAG9159</td>\n",
       "      <td>NaN</td>\n",
       "      <td>GC_ID:1</td>\n",
       "      <td>ncbitaxon.json</td>\n",
       "      <td>NaN</td>\n",
       "      <td>http://purl.obolibrary.org/obo/NCBITaxon_1252590</td>\n",
       "      <td>NaN</td>\n",
       "    </tr>\n",
       "    <tr>\n",
       "      <th>1</th>\n",
       "      <td>NCBITaxon:1252591</td>\n",
       "      <td>biolink:OrganismalEntity</td>\n",
       "      <td>Ichneumonidae sp. ASWA193-08</td>\n",
       "      <td>NaN</td>\n",
       "      <td>GC_ID:1</td>\n",
       "      <td>ncbitaxon.json</td>\n",
       "      <td>NaN</td>\n",
       "      <td>http://purl.obolibrary.org/obo/NCBITaxon_1252591</td>\n",
       "      <td>NaN</td>\n",
       "    </tr>\n",
       "    <tr>\n",
       "      <th>2</th>\n",
       "      <td>NCBITaxon:1252592</td>\n",
       "      <td>biolink:OrganismalEntity</td>\n",
       "      <td>Ichneumonidae sp. BOLD:AAH1531</td>\n",
       "      <td>NaN</td>\n",
       "      <td>GC_ID:1</td>\n",
       "      <td>ncbitaxon.json</td>\n",
       "      <td>NaN</td>\n",
       "      <td>http://purl.obolibrary.org/obo/NCBITaxon_1252592</td>\n",
       "      <td>NaN</td>\n",
       "    </tr>\n",
       "    <tr>\n",
       "      <th>3</th>\n",
       "      <td>NCBITaxon:1252593</td>\n",
       "      <td>biolink:OrganismalEntity</td>\n",
       "      <td>Stibeutes sp. BOLD:ABZ5036</td>\n",
       "      <td>NaN</td>\n",
       "      <td>GC_ID:1</td>\n",
       "      <td>ncbitaxon.json</td>\n",
       "      <td>NaN</td>\n",
       "      <td>http://purl.obolibrary.org/obo/NCBITaxon_1252593</td>\n",
       "      <td>NaN</td>\n",
       "    </tr>\n",
       "    <tr>\n",
       "      <th>4</th>\n",
       "      <td>NCBITaxon:1252594</td>\n",
       "      <td>biolink:OrganismalEntity</td>\n",
       "      <td>Ichneumonidae sp. BOLD:AAH2156</td>\n",
       "      <td>NaN</td>\n",
       "      <td>GC_ID:1</td>\n",
       "      <td>ncbitaxon.json</td>\n",
       "      <td>NaN</td>\n",
       "      <td>http://purl.obolibrary.org/obo/NCBITaxon_1252594</td>\n",
       "      <td>NaN</td>\n",
       "    </tr>\n",
       "  </tbody>\n",
       "</table>\n",
       "</div>"
      ],
      "text/plain": [
       "                  id                  category  \\\n",
       "0  NCBITaxon:1252590  biolink:OrganismalEntity   \n",
       "1  NCBITaxon:1252591  biolink:OrganismalEntity   \n",
       "2  NCBITaxon:1252592  biolink:OrganismalEntity   \n",
       "3  NCBITaxon:1252593  biolink:OrganismalEntity   \n",
       "4  NCBITaxon:1252594  biolink:OrganismalEntity   \n",
       "\n",
       "                             name description     xref     provided_by  \\\n",
       "0  Ichneumonidae sp. BOLD:AAG9159         NaN  GC_ID:1  ncbitaxon.json   \n",
       "1    Ichneumonidae sp. ASWA193-08         NaN  GC_ID:1  ncbitaxon.json   \n",
       "2  Ichneumonidae sp. BOLD:AAH1531         NaN  GC_ID:1  ncbitaxon.json   \n",
       "3      Stibeutes sp. BOLD:ABZ5036         NaN  GC_ID:1  ncbitaxon.json   \n",
       "4  Ichneumonidae sp. BOLD:AAH2156         NaN  GC_ID:1  ncbitaxon.json   \n",
       "\n",
       "  synonym                                               iri  same_as  \n",
       "0     NaN  http://purl.obolibrary.org/obo/NCBITaxon_1252590      NaN  \n",
       "1     NaN  http://purl.obolibrary.org/obo/NCBITaxon_1252591      NaN  \n",
       "2     NaN  http://purl.obolibrary.org/obo/NCBITaxon_1252592      NaN  \n",
       "3     NaN  http://purl.obolibrary.org/obo/NCBITaxon_1252593      NaN  \n",
       "4     NaN  http://purl.obolibrary.org/obo/NCBITaxon_1252594      NaN  "
      ]
     },
     "execution_count": 27,
     "metadata": {},
     "output_type": "execute_result"
    }
   ],
   "source": [
    "ncbitaxon_nodes = pd.read_csv(ncbitaxon_nodes_file, sep=\"\\t\")\n",
    "ncbitaxon_nodes.head()"
   ]
  },
  {
   "cell_type": "code",
   "execution_count": 28,
   "metadata": {},
   "outputs": [
    {
     "data": {
      "text/html": [
       "<div>\n",
       "<style scoped>\n",
       "    .dataframe tbody tr th:only-of-type {\n",
       "        vertical-align: middle;\n",
       "    }\n",
       "\n",
       "    .dataframe tbody tr th {\n",
       "        vertical-align: top;\n",
       "    }\n",
       "\n",
       "    .dataframe thead th {\n",
       "        text-align: right;\n",
       "    }\n",
       "</style>\n",
       "<table border=\"1\" class=\"dataframe\">\n",
       "  <thead>\n",
       "    <tr style=\"text-align: right;\">\n",
       "      <th></th>\n",
       "      <th>id</th>\n",
       "      <th>name</th>\n",
       "      <th>category</th>\n",
       "      <th>match_description</th>\n",
       "    </tr>\n",
       "  </thead>\n",
       "  <tbody>\n",
       "    <tr>\n",
       "      <th>0</th>\n",
       "      <td>NCBITaxon:54261</td>\n",
       "      <td>Ferroglobus placidus</td>\n",
       "      <td>biolink:OrganismTaxon</td>\n",
       "      <td>NaN</td>\n",
       "    </tr>\n",
       "    <tr>\n",
       "      <th>1</th>\n",
       "      <td>microtraits.pathways:nitrate_reduction</td>\n",
       "      <td>nitrate reduction</td>\n",
       "      <td>biolink:BiologicalProcess</td>\n",
       "      <td>NaN</td>\n",
       "    </tr>\n",
       "    <tr>\n",
       "      <th>2</th>\n",
       "      <td>NCBITaxon:2714</td>\n",
       "      <td>Aquifex pyrophilus</td>\n",
       "      <td>biolink:OrganismTaxon</td>\n",
       "      <td>NaN</td>\n",
       "    </tr>\n",
       "    <tr>\n",
       "      <th>3</th>\n",
       "      <td>NCBITaxon:29466</td>\n",
       "      <td>Veillonella alcalescens</td>\n",
       "      <td>biolink:OrganismTaxon</td>\n",
       "      <td>NaN</td>\n",
       "    </tr>\n",
       "    <tr>\n",
       "      <th>4</th>\n",
       "      <td>NCBITaxon:266</td>\n",
       "      <td>Micrococcus denitrificans</td>\n",
       "      <td>biolink:OrganismTaxon</td>\n",
       "      <td>NaN</td>\n",
       "    </tr>\n",
       "  </tbody>\n",
       "</table>\n",
       "</div>"
      ],
      "text/plain": [
       "                                       id                       name  \\\n",
       "0                         NCBITaxon:54261       Ferroglobus placidus   \n",
       "1  microtraits.pathways:nitrate_reduction          nitrate reduction   \n",
       "2                          NCBITaxon:2714         Aquifex pyrophilus   \n",
       "3                         NCBITaxon:29466    Veillonella alcalescens   \n",
       "4                           NCBITaxon:266  Micrococcus denitrificans   \n",
       "\n",
       "                    category match_description  \n",
       "0      biolink:OrganismTaxon               NaN  \n",
       "1  biolink:BiologicalProcess               NaN  \n",
       "2      biolink:OrganismTaxon               NaN  \n",
       "3      biolink:OrganismTaxon               NaN  \n",
       "4      biolink:OrganismTaxon               NaN  "
      ]
     },
     "execution_count": 28,
     "metadata": {},
     "output_type": "execute_result"
    }
   ],
   "source": [
    "trait_nodes = pd.read_csv(trait_node_file, sep=\"\\t\")\n",
    "trait_nodes.head()"
   ]
  },
  {
   "cell_type": "code",
   "execution_count": 29,
   "metadata": {},
   "outputs": [
    {
     "data": {
      "text/html": [
       "<div>\n",
       "<style scoped>\n",
       "    .dataframe tbody tr th:only-of-type {\n",
       "        vertical-align: middle;\n",
       "    }\n",
       "\n",
       "    .dataframe tbody tr th {\n",
       "        vertical-align: top;\n",
       "    }\n",
       "\n",
       "    .dataframe thead th {\n",
       "        text-align: right;\n",
       "    }\n",
       "</style>\n",
       "<table border=\"1\" class=\"dataframe\">\n",
       "  <thead>\n",
       "    <tr style=\"text-align: right;\">\n",
       "      <th></th>\n",
       "      <th>id</th>\n",
       "      <th>name</th>\n",
       "    </tr>\n",
       "  </thead>\n",
       "  <tbody>\n",
       "    <tr>\n",
       "      <th>0</th>\n",
       "      <td>NCBITaxon:1252590</td>\n",
       "      <td>Ichneumonidae sp. BOLD:AAG9159</td>\n",
       "    </tr>\n",
       "    <tr>\n",
       "      <th>1</th>\n",
       "      <td>NCBITaxon:1252591</td>\n",
       "      <td>Ichneumonidae sp. ASWA193-08</td>\n",
       "    </tr>\n",
       "    <tr>\n",
       "      <th>2</th>\n",
       "      <td>NCBITaxon:1252592</td>\n",
       "      <td>Ichneumonidae sp. BOLD:AAH1531</td>\n",
       "    </tr>\n",
       "    <tr>\n",
       "      <th>3</th>\n",
       "      <td>NCBITaxon:1252593</td>\n",
       "      <td>Stibeutes sp. BOLD:ABZ5036</td>\n",
       "    </tr>\n",
       "    <tr>\n",
       "      <th>4</th>\n",
       "      <td>NCBITaxon:1252594</td>\n",
       "      <td>Ichneumonidae sp. BOLD:AAH2156</td>\n",
       "    </tr>\n",
       "  </tbody>\n",
       "</table>\n",
       "</div>"
      ],
      "text/plain": [
       "                  id                            name\n",
       "0  NCBITaxon:1252590  Ichneumonidae sp. BOLD:AAG9159\n",
       "1  NCBITaxon:1252591    Ichneumonidae sp. ASWA193-08\n",
       "2  NCBITaxon:1252592  Ichneumonidae sp. BOLD:AAH1531\n",
       "3  NCBITaxon:1252593      Stibeutes sp. BOLD:ABZ5036\n",
       "4  NCBITaxon:1252594  Ichneumonidae sp. BOLD:AAH2156"
      ]
     },
     "execution_count": 29,
     "metadata": {},
     "output_type": "execute_result"
    }
   ],
   "source": [
    "right_taxon_df = trait_nodes[trait_nodes[\"category\"] == \"biolink:OrganismTaxon\"][[\"id\", \"name\"]].set_index(\"id\")\n",
    "left_taxon_df = ncbitaxon_nodes[[\"id\", \"name\"]].set_index(\"id\")\n",
    "\n",
    "taxon_df = pd.concat([left_taxon_df, right_taxon_df[~right_taxon_df.index.isin(left_taxon_df.index)]])\n",
    "\n",
    "\n",
    "taxon_df.reset_index(inplace=True)\n",
    "taxon_df.head()"
   ]
  },
  {
   "cell_type": "code",
   "execution_count": 30,
   "metadata": {},
   "outputs": [
    {
     "data": {
      "text/html": [
       "<div>\n",
       "<style scoped>\n",
       "    .dataframe tbody tr th:only-of-type {\n",
       "        vertical-align: middle;\n",
       "    }\n",
       "\n",
       "    .dataframe tbody tr th {\n",
       "        vertical-align: top;\n",
       "    }\n",
       "\n",
       "    .dataframe thead th {\n",
       "        text-align: right;\n",
       "    }\n",
       "</style>\n",
       "<table border=\"1\" class=\"dataframe\">\n",
       "  <thead>\n",
       "    <tr style=\"text-align: right;\">\n",
       "      <th></th>\n",
       "      <th>id</th>\n",
       "      <th>name</th>\n",
       "    </tr>\n",
       "  </thead>\n",
       "  <tbody>\n",
       "    <tr>\n",
       "      <th>1012363</th>\n",
       "      <td>NCBITaxon:100</td>\n",
       "      <td>Ancylobacter aquaticus</td>\n",
       "    </tr>\n",
       "  </tbody>\n",
       "</table>\n",
       "</div>"
      ],
      "text/plain": [
       "                    id                    name\n",
       "1012363  NCBITaxon:100  Ancylobacter aquaticus"
      ]
     },
     "execution_count": 30,
     "metadata": {},
     "output_type": "execute_result"
    }
   ],
   "source": [
    "taxon_df[taxon_df[\"id\"] == \"NCBITaxon:100\"]"
   ]
  },
  {
   "cell_type": "code",
   "execution_count": 31,
   "metadata": {},
   "outputs": [
    {
     "data": {
      "text/html": [
       "<div>\n",
       "<style scoped>\n",
       "    .dataframe tbody tr th:only-of-type {\n",
       "        vertical-align: middle;\n",
       "    }\n",
       "\n",
       "    .dataframe tbody tr th {\n",
       "        vertical-align: top;\n",
       "    }\n",
       "\n",
       "    .dataframe thead th {\n",
       "        text-align: right;\n",
       "    }\n",
       "</style>\n",
       "<table border=\"1\" class=\"dataframe\">\n",
       "  <thead>\n",
       "    <tr style=\"text-align: right;\">\n",
       "      <th></th>\n",
       "      <th>id</th>\n",
       "      <th>name</th>\n",
       "      <th>category</th>\n",
       "      <th>match_description</th>\n",
       "    </tr>\n",
       "  </thead>\n",
       "  <tbody>\n",
       "    <tr>\n",
       "      <th>3213</th>\n",
       "      <td>NCBITaxon:100</td>\n",
       "      <td>ancylobacter_aquaticus</td>\n",
       "      <td>biolink:OrganismTaxon</td>\n",
       "      <td>NaN</td>\n",
       "    </tr>\n",
       "  </tbody>\n",
       "</table>\n",
       "</div>"
      ],
      "text/plain": [
       "                 id                    name               category  \\\n",
       "3213  NCBITaxon:100  ancylobacter_aquaticus  biolink:OrganismTaxon   \n",
       "\n",
       "     match_description  \n",
       "3213               NaN  "
      ]
     },
     "execution_count": 31,
     "metadata": {},
     "output_type": "execute_result"
    }
   ],
   "source": [
    "trait_nodes[trait_nodes[\"id\"] == \"NCBITaxon:100\"]"
   ]
  },
  {
   "cell_type": "code",
   "execution_count": 32,
   "metadata": {},
   "outputs": [
    {
     "data": {
      "text/html": [
       "<div>\n",
       "<style scoped>\n",
       "    .dataframe tbody tr th:only-of-type {\n",
       "        vertical-align: middle;\n",
       "    }\n",
       "\n",
       "    .dataframe tbody tr th {\n",
       "        vertical-align: top;\n",
       "    }\n",
       "\n",
       "    .dataframe thead th {\n",
       "        text-align: right;\n",
       "    }\n",
       "</style>\n",
       "<table border=\"1\" class=\"dataframe\">\n",
       "  <thead>\n",
       "    <tr style=\"text-align: right;\">\n",
       "      <th></th>\n",
       "      <th>id</th>\n",
       "      <th>category</th>\n",
       "      <th>name</th>\n",
       "      <th>description</th>\n",
       "      <th>xref</th>\n",
       "      <th>provided_by</th>\n",
       "      <th>synonym</th>\n",
       "      <th>iri</th>\n",
       "      <th>same_as</th>\n",
       "    </tr>\n",
       "  </thead>\n",
       "  <tbody>\n",
       "    <tr>\n",
       "      <th>1012363</th>\n",
       "      <td>NCBITaxon:100</td>\n",
       "      <td>biolink:OrganismalEntity</td>\n",
       "      <td>Ancylobacter aquaticus</td>\n",
       "      <td>NaN</td>\n",
       "      <td>GC_ID:11</td>\n",
       "      <td>ncbitaxon.json</td>\n",
       "      <td>Microcyclus aquaticus</td>\n",
       "      <td>http://purl.obolibrary.org/obo/NCBITaxon_100</td>\n",
       "      <td>NaN</td>\n",
       "    </tr>\n",
       "  </tbody>\n",
       "</table>\n",
       "</div>"
      ],
      "text/plain": [
       "                    id                  category                    name  \\\n",
       "1012363  NCBITaxon:100  biolink:OrganismalEntity  Ancylobacter aquaticus   \n",
       "\n",
       "        description      xref     provided_by                synonym  \\\n",
       "1012363         NaN  GC_ID:11  ncbitaxon.json  Microcyclus aquaticus   \n",
       "\n",
       "                                                  iri  same_as  \n",
       "1012363  http://purl.obolibrary.org/obo/NCBITaxon_100      NaN  "
      ]
     },
     "execution_count": 32,
     "metadata": {},
     "output_type": "execute_result"
    }
   ],
   "source": [
    "ncbitaxon_nodes[ncbitaxon_nodes[\"id\"] == \"NCBITaxon:100\"]"
   ]
  },
  {
   "cell_type": "code",
   "execution_count": 33,
   "metadata": {},
   "outputs": [
    {
     "data": {
      "text/plain": [
       "array(['biolink:OrganismTaxon', 'biolink:BiologicalProcess',\n",
       "       'biolink:ActivityAndBehavior', nan, 'biolink:ChemicalSubstance',\n",
       "       'biolink:AbstractEntity'], dtype=object)"
      ]
     },
     "execution_count": 33,
     "metadata": {},
     "output_type": "execute_result"
    }
   ],
   "source": [
    "trait_nodes[\"category\"].unique()"
   ]
  },
  {
   "cell_type": "code",
   "execution_count": 34,
   "metadata": {},
   "outputs": [
    {
     "data": {
      "text/html": [
       "<div>\n",
       "<style scoped>\n",
       "    .dataframe tbody tr th:only-of-type {\n",
       "        vertical-align: middle;\n",
       "    }\n",
       "\n",
       "    .dataframe tbody tr th {\n",
       "        vertical-align: top;\n",
       "    }\n",
       "\n",
       "    .dataframe thead th {\n",
       "        text-align: right;\n",
       "    }\n",
       "</style>\n",
       "<table border=\"1\" class=\"dataframe\">\n",
       "  <thead>\n",
       "    <tr style=\"text-align: right;\">\n",
       "      <th></th>\n",
       "      <th>id</th>\n",
       "      <th>name</th>\n",
       "      <th>category</th>\n",
       "      <th>match_description</th>\n",
       "    </tr>\n",
       "  </thead>\n",
       "  <tbody>\n",
       "    <tr>\n",
       "      <th>1</th>\n",
       "      <td>microtraits.pathways:nitrate_reduction</td>\n",
       "      <td>nitrate reduction</td>\n",
       "      <td>biolink:BiologicalProcess</td>\n",
       "      <td>NaN</td>\n",
       "    </tr>\n",
       "    <tr>\n",
       "      <th>18</th>\n",
       "      <td>microtraits.pathways:denitrification</td>\n",
       "      <td>denitrification</td>\n",
       "      <td>biolink:BiologicalProcess</td>\n",
       "      <td>NaN</td>\n",
       "    </tr>\n",
       "    <tr>\n",
       "      <th>20</th>\n",
       "      <td>microtraits.pathways:nitrate_reduction_to_ammonia</td>\n",
       "      <td>nitrate reduction to ammonia</td>\n",
       "      <td>biolink:BiologicalProcess</td>\n",
       "      <td>NaN</td>\n",
       "    </tr>\n",
       "    <tr>\n",
       "      <th>22</th>\n",
       "      <td>microtraits.pathways:nitrite_reduction</td>\n",
       "      <td>nitrite reduction</td>\n",
       "      <td>biolink:BiologicalProcess</td>\n",
       "      <td>NaN</td>\n",
       "    </tr>\n",
       "    <tr>\n",
       "      <th>23</th>\n",
       "      <td>microtraits.pathways:nitric_oxide_reduction</td>\n",
       "      <td>nitric oxide reduction</td>\n",
       "      <td>biolink:BiologicalProcess</td>\n",
       "      <td>NaN</td>\n",
       "    </tr>\n",
       "  </tbody>\n",
       "</table>\n",
       "</div>"
      ],
      "text/plain": [
       "                                                   id  \\\n",
       "1              microtraits.pathways:nitrate_reduction   \n",
       "18               microtraits.pathways:denitrification   \n",
       "20  microtraits.pathways:nitrate_reduction_to_ammonia   \n",
       "22             microtraits.pathways:nitrite_reduction   \n",
       "23        microtraits.pathways:nitric_oxide_reduction   \n",
       "\n",
       "                            name                   category match_description  \n",
       "1              nitrate reduction  biolink:BiologicalProcess               NaN  \n",
       "18               denitrification  biolink:BiologicalProcess               NaN  \n",
       "20  nitrate reduction to ammonia  biolink:BiologicalProcess               NaN  \n",
       "22             nitrite reduction  biolink:BiologicalProcess               NaN  \n",
       "23        nitric oxide reduction  biolink:BiologicalProcess               NaN  "
      ]
     },
     "execution_count": 34,
     "metadata": {},
     "output_type": "execute_result"
    }
   ],
   "source": [
    "trait_nodes[trait_nodes[\"category\"] == \"biolink:BiologicalProcess\"].head()"
   ]
  },
  {
   "cell_type": "code",
   "execution_count": 35,
   "metadata": {},
   "outputs": [
    {
     "data": {
      "text/html": [
       "<div>\n",
       "<style scoped>\n",
       "    .dataframe tbody tr th:only-of-type {\n",
       "        vertical-align: middle;\n",
       "    }\n",
       "\n",
       "    .dataframe tbody tr th {\n",
       "        vertical-align: top;\n",
       "    }\n",
       "\n",
       "    .dataframe thead th {\n",
       "        text-align: right;\n",
       "    }\n",
       "</style>\n",
       "<table border=\"1\" class=\"dataframe\">\n",
       "  <thead>\n",
       "    <tr style=\"text-align: right;\">\n",
       "      <th></th>\n",
       "      <th>id</th>\n",
       "      <th>name</th>\n",
       "      <th>category</th>\n",
       "      <th>match_description</th>\n",
       "    </tr>\n",
       "  </thead>\n",
       "  <tbody>\n",
       "    <tr>\n",
       "      <th>221</th>\n",
       "      <td>ECOCORE:00000180</td>\n",
       "      <td>microaerophilic</td>\n",
       "      <td>biolink:ActivityAndBehavior</td>\n",
       "      <td>NaN</td>\n",
       "    </tr>\n",
       "    <tr>\n",
       "      <th>1537</th>\n",
       "      <td>ECOCORE:00000172</td>\n",
       "      <td>anaerobe</td>\n",
       "      <td>biolink:ActivityAndBehavior</td>\n",
       "      <td>NaN</td>\n",
       "    </tr>\n",
       "    <tr>\n",
       "      <th>1542</th>\n",
       "      <td>ECOCORE:00000173</td>\n",
       "      <td>aerobe</td>\n",
       "      <td>biolink:ActivityAndBehavior</td>\n",
       "      <td>NaN</td>\n",
       "    </tr>\n",
       "    <tr>\n",
       "      <th>1627</th>\n",
       "      <td>ECOCORE:00000177</td>\n",
       "      <td>facultative anaerobe</td>\n",
       "      <td>biolink:ActivityAndBehavior</td>\n",
       "      <td>NaN</td>\n",
       "    </tr>\n",
       "    <tr>\n",
       "      <th>12224</th>\n",
       "      <td>ECOCORE:00000179</td>\n",
       "      <td>obligate aerobe</td>\n",
       "      <td>biolink:ActivityAndBehavior</td>\n",
       "      <td>NaN</td>\n",
       "    </tr>\n",
       "  </tbody>\n",
       "</table>\n",
       "</div>"
      ],
      "text/plain": [
       "                     id                  name                     category  \\\n",
       "221    ECOCORE:00000180       microaerophilic  biolink:ActivityAndBehavior   \n",
       "1537   ECOCORE:00000172              anaerobe  biolink:ActivityAndBehavior   \n",
       "1542   ECOCORE:00000173                aerobe  biolink:ActivityAndBehavior   \n",
       "1627   ECOCORE:00000177  facultative anaerobe  biolink:ActivityAndBehavior   \n",
       "12224  ECOCORE:00000179       obligate aerobe  biolink:ActivityAndBehavior   \n",
       "\n",
       "      match_description  \n",
       "221                 NaN  \n",
       "1537                NaN  \n",
       "1542                NaN  \n",
       "1627                NaN  \n",
       "12224               NaN  "
      ]
     },
     "execution_count": 35,
     "metadata": {},
     "output_type": "execute_result"
    }
   ],
   "source": [
    "trait_nodes[trait_nodes[\"category\"] == \"biolink:ActivityAndBehavior\"].head()"
   ]
  },
  {
   "cell_type": "code",
   "execution_count": 36,
   "metadata": {},
   "outputs": [
    {
     "data": {
      "text/html": [
       "<div>\n",
       "<style scoped>\n",
       "    .dataframe tbody tr th:only-of-type {\n",
       "        vertical-align: middle;\n",
       "    }\n",
       "\n",
       "    .dataframe tbody tr th {\n",
       "        vertical-align: top;\n",
       "    }\n",
       "\n",
       "    .dataframe thead th {\n",
       "        text-align: right;\n",
       "    }\n",
       "</style>\n",
       "<table border=\"1\" class=\"dataframe\">\n",
       "  <thead>\n",
       "    <tr style=\"text-align: right;\">\n",
       "      <th></th>\n",
       "      <th>id</th>\n",
       "      <th>name</th>\n",
       "      <th>category</th>\n",
       "      <th>match_description</th>\n",
       "    </tr>\n",
       "  </thead>\n",
       "  <tbody>\n",
       "    <tr>\n",
       "      <th>1540</th>\n",
       "      <td>CHEBI:33290</td>\n",
       "      <td>food</td>\n",
       "      <td>biolink:ChemicalSubstance</td>\n",
       "      <td>NaN</td>\n",
       "    </tr>\n",
       "    <tr>\n",
       "      <th>12219</th>\n",
       "      <td>CHEBI:17234</td>\n",
       "      <td>glucose</td>\n",
       "      <td>biolink:ChemicalSubstance</td>\n",
       "      <td>ExactStringMatch</td>\n",
       "    </tr>\n",
       "    <tr>\n",
       "      <th>12220</th>\n",
       "      <td>CHEBI:26986</td>\n",
       "      <td>threonine</td>\n",
       "      <td>biolink:ChemicalSubstance</td>\n",
       "      <td>ExactStringMatch</td>\n",
       "    </tr>\n",
       "    <tr>\n",
       "      <th>12221</th>\n",
       "      <td>CHEBI:17822</td>\n",
       "      <td>serine</td>\n",
       "      <td>biolink:ChemicalSubstance</td>\n",
       "      <td>ExactStringMatch</td>\n",
       "    </tr>\n",
       "    <tr>\n",
       "      <th>12222</th>\n",
       "      <td>CHEBI:16449</td>\n",
       "      <td>alanine</td>\n",
       "      <td>biolink:ChemicalSubstance</td>\n",
       "      <td>ExactStringMatch</td>\n",
       "    </tr>\n",
       "  </tbody>\n",
       "</table>\n",
       "</div>"
      ],
      "text/plain": [
       "                id       name                   category match_description\n",
       "1540   CHEBI:33290       food  biolink:ChemicalSubstance               NaN\n",
       "12219  CHEBI:17234    glucose  biolink:ChemicalSubstance  ExactStringMatch\n",
       "12220  CHEBI:26986  threonine  biolink:ChemicalSubstance  ExactStringMatch\n",
       "12221  CHEBI:17822     serine  biolink:ChemicalSubstance  ExactStringMatch\n",
       "12222  CHEBI:16449    alanine  biolink:ChemicalSubstance  ExactStringMatch"
      ]
     },
     "execution_count": 36,
     "metadata": {},
     "output_type": "execute_result"
    }
   ],
   "source": [
    "trait_nodes[trait_nodes[\"category\"] == \"biolink:ChemicalSubstance\"].head()"
   ]
  },
  {
   "cell_type": "code",
   "execution_count": 37,
   "metadata": {},
   "outputs": [
    {
     "data": {
      "text/html": [
       "<div>\n",
       "<style scoped>\n",
       "    .dataframe tbody tr th:only-of-type {\n",
       "        vertical-align: middle;\n",
       "    }\n",
       "\n",
       "    .dataframe tbody tr th {\n",
       "        vertical-align: top;\n",
       "    }\n",
       "\n",
       "    .dataframe thead th {\n",
       "        text-align: right;\n",
       "    }\n",
       "</style>\n",
       "<table border=\"1\" class=\"dataframe\">\n",
       "  <thead>\n",
       "    <tr style=\"text-align: right;\">\n",
       "      <th></th>\n",
       "      <th>id</th>\n",
       "      <th>name</th>\n",
       "      <th>category</th>\n",
       "      <th>match_description</th>\n",
       "    </tr>\n",
       "  </thead>\n",
       "  <tbody>\n",
       "    <tr>\n",
       "      <th>12223</th>\n",
       "      <td>microtraits.cell_shape_enum:bacillus</td>\n",
       "      <td>bacillus</td>\n",
       "      <td>biolink:AbstractEntity</td>\n",
       "      <td>ExactStringMatch</td>\n",
       "    </tr>\n",
       "    <tr>\n",
       "      <th>12231</th>\n",
       "      <td>microtraits.cell_shape_enum:coccus</td>\n",
       "      <td>coccus</td>\n",
       "      <td>biolink:AbstractEntity</td>\n",
       "      <td>oio:hasExactSynonym</td>\n",
       "    </tr>\n",
       "    <tr>\n",
       "      <th>12238</th>\n",
       "      <td>microtraits.cell_shape_enum:coccobacillus</td>\n",
       "      <td>coccobacillus</td>\n",
       "      <td>biolink:AbstractEntity</td>\n",
       "      <td>ExactStringMatch</td>\n",
       "    </tr>\n",
       "    <tr>\n",
       "      <th>12401</th>\n",
       "      <td>microtraits.cell_shape_enum:spiral</td>\n",
       "      <td>spiral</td>\n",
       "      <td>biolink:AbstractEntity</td>\n",
       "      <td>ExactStringMatch</td>\n",
       "    </tr>\n",
       "    <tr>\n",
       "      <th>17872</th>\n",
       "      <td>microtraits.cell_shape_enum:filament</td>\n",
       "      <td>filament</td>\n",
       "      <td>biolink:AbstractEntity</td>\n",
       "      <td>NaN</td>\n",
       "    </tr>\n",
       "  </tbody>\n",
       "</table>\n",
       "</div>"
      ],
      "text/plain": [
       "                                              id           name  \\\n",
       "12223       microtraits.cell_shape_enum:bacillus       bacillus   \n",
       "12231         microtraits.cell_shape_enum:coccus         coccus   \n",
       "12238  microtraits.cell_shape_enum:coccobacillus  coccobacillus   \n",
       "12401         microtraits.cell_shape_enum:spiral         spiral   \n",
       "17872       microtraits.cell_shape_enum:filament       filament   \n",
       "\n",
       "                     category    match_description  \n",
       "12223  biolink:AbstractEntity     ExactStringMatch  \n",
       "12231  biolink:AbstractEntity  oio:hasExactSynonym  \n",
       "12238  biolink:AbstractEntity     ExactStringMatch  \n",
       "12401  biolink:AbstractEntity     ExactStringMatch  \n",
       "17872  biolink:AbstractEntity                  NaN  "
      ]
     },
     "execution_count": 37,
     "metadata": {},
     "output_type": "execute_result"
    }
   ],
   "source": [
    "trait_nodes[trait_nodes[\"category\"] == \"biolink:AbstractEntity\"].head()"
   ]
  },
  {
   "cell_type": "code",
   "execution_count": 38,
   "metadata": {},
   "outputs": [
    {
     "data": {
      "text/html": [
       "<div>\n",
       "<style scoped>\n",
       "    .dataframe tbody tr th:only-of-type {\n",
       "        vertical-align: middle;\n",
       "    }\n",
       "\n",
       "    .dataframe tbody tr th {\n",
       "        vertical-align: top;\n",
       "    }\n",
       "\n",
       "    .dataframe thead th {\n",
       "        text-align: right;\n",
       "    }\n",
       "</style>\n",
       "<table border=\"1\" class=\"dataframe\">\n",
       "  <thead>\n",
       "    <tr style=\"text-align: right;\">\n",
       "      <th></th>\n",
       "      <th>id</th>\n",
       "      <th>name</th>\n",
       "      <th>category</th>\n",
       "      <th>match_description</th>\n",
       "    </tr>\n",
       "  </thead>\n",
       "  <tbody>\n",
       "    <tr>\n",
       "      <th>1536</th>\n",
       "      <td>microtraits.data_source:fermented</td>\n",
       "      <td>fermented</td>\n",
       "      <td>NaN</td>\n",
       "      <td>NaN</td>\n",
       "    </tr>\n",
       "    <tr>\n",
       "      <th>1538</th>\n",
       "      <td>microtraits.data_source:endotherm</td>\n",
       "      <td>endotherm</td>\n",
       "      <td>NaN</td>\n",
       "      <td>NaN</td>\n",
       "    </tr>\n",
       "    <tr>\n",
       "      <th>1539</th>\n",
       "      <td>ENVO:00002001</td>\n",
       "      <td>waste water</td>\n",
       "      <td>NaN</td>\n",
       "      <td>NaN</td>\n",
       "    </tr>\n",
       "    <tr>\n",
       "      <th>1545</th>\n",
       "      <td>ENVO:08000002</td>\n",
       "      <td>mouth environment</td>\n",
       "      <td>NaN</td>\n",
       "      <td>NaN</td>\n",
       "    </tr>\n",
       "    <tr>\n",
       "      <th>1546</th>\n",
       "      <td>microtraits.data_source:ectotherm</td>\n",
       "      <td>ectotherm</td>\n",
       "      <td>NaN</td>\n",
       "      <td>NaN</td>\n",
       "    </tr>\n",
       "  </tbody>\n",
       "</table>\n",
       "</div>"
      ],
      "text/plain": [
       "                                     id               name category  \\\n",
       "1536  microtraits.data_source:fermented          fermented      NaN   \n",
       "1538  microtraits.data_source:endotherm          endotherm      NaN   \n",
       "1539                      ENVO:00002001        waste water      NaN   \n",
       "1545                      ENVO:08000002  mouth environment      NaN   \n",
       "1546  microtraits.data_source:ectotherm          ectotherm      NaN   \n",
       "\n",
       "     match_description  \n",
       "1536               NaN  \n",
       "1538               NaN  \n",
       "1539               NaN  \n",
       "1545               NaN  \n",
       "1546               NaN  "
      ]
     },
     "execution_count": 38,
     "metadata": {},
     "output_type": "execute_result"
    }
   ],
   "source": [
    "trait_nodes[trait_nodes[\"category\"].isna()].head()"
   ]
  },
  {
   "cell_type": "code",
   "execution_count": 39,
   "metadata": {},
   "outputs": [],
   "source": [
    "\n",
    "def ncbitaxon_generator():\n",
    "    for row in taxon_df.itertuples():\n",
    "        yield (\n",
    "          row.id,\n",
    "          \"biolink:OrganismTaxon\",\n",
    "          {\"name\": row.name}\n",
    "        )\n",
    "\n",
    "def BiologicalProcess_generator():\n",
    "    for row in trait_nodes[trait_nodes[\"category\"] == \"biolink:BiologicalProcess\"].itertuples():\n",
    "        yield (\n",
    "          row.id,\n",
    "          row.category,\n",
    "          {\"name\": row.name}\n",
    "        )\n",
    "\n",
    "def ActivityAndBehavior_generator():\n",
    "    for row in trait_nodes[trait_nodes[\"category\"] == \"biolink:ActivityAndBehavior\"].itertuples():\n",
    "        yield (\n",
    "          row.id,\n",
    "          row.category,\n",
    "          {\"name\": row.name}\n",
    "        )"
   ]
  },
  {
   "cell_type": "code",
   "execution_count": 40,
   "metadata": {},
   "outputs": [
    {
     "name": "stderr",
     "output_type": "stream",
     "text": [
      "INFO -- Offline mode: no connection to Neo4j.\n",
      "INFO -- Building Biolink schema and saving to cache. This step can sometimes take several minutes for reasons related to LinkML online functions. It is so far not clear what exactly causes it, but an issue has been opened at the source. Please try again shortly.\n",
      "INFO -- Creating BioLink model toolkit from default schema. Biolink model version: 3.0.3\n",
      "INFO -- Translating BioCypher config leaves to Biolink.\n",
      "INFO -- Creating output directory `c:\\Users\\dgg32\\Documents\\biocypher\\biocypher-out\\202302141545`.\n",
      "INFO -- Writing 1000000 entries to OrganismTaxon-part000.csv\n",
      "INFO -- Writing 1000000 entries to OrganismTaxon-part001.csv\n",
      "INFO -- Writing 476174 entries to OrganismTaxon-part002.csv\n",
      "INFO -- Writing neo4j-admin import call to `c:\\Users\\dgg32\\Documents\\biocypher\\biocypher-out\\202302141545\\neo4j-admin-import-call.sh`.\n"
     ]
    },
    {
     "data": {
      "text/plain": [
       "True"
      ]
     },
     "execution_count": 40,
     "metadata": {},
     "output_type": "execute_result"
    }
   ],
   "source": [
    "\n",
    "driver = biocypher.Driver(\n",
    "    offline=True,\n",
    "    user_schema_config_path=\"schema/OrganismTaxon.yaml\"\n",
    ")\n",
    "driver.write_nodes(ncbitaxon_generator())\n",
    "\n",
    "driver.write_import_call()"
   ]
  },
  {
   "cell_type": "code",
   "execution_count": 41,
   "metadata": {},
   "outputs": [
    {
     "name": "stderr",
     "output_type": "stream",
     "text": [
      "INFO -- Offline mode: no connection to Neo4j.\n",
      "INFO -- Building Biolink schema and saving to cache. This step can sometimes take several minutes for reasons related to LinkML online functions. It is so far not clear what exactly causes it, but an issue has been opened at the source. Please try again shortly.\n",
      "INFO -- Creating BioLink model toolkit from default schema. Biolink model version: 3.0.3\n",
      "INFO -- Translating BioCypher config leaves to Biolink.\n",
      "INFO -- Creating output directory `c:\\Users\\dgg32\\Documents\\biocypher\\biocypher-out\\202302141550`.\n",
      "INFO -- Writing 100 entries to BiologicalProcess-part000.csv\n",
      "INFO -- Writing neo4j-admin import call to `c:\\Users\\dgg32\\Documents\\biocypher\\biocypher-out\\202302141550\\neo4j-admin-import-call.sh`.\n"
     ]
    },
    {
     "data": {
      "text/plain": [
       "True"
      ]
     },
     "execution_count": 41,
     "metadata": {},
     "output_type": "execute_result"
    }
   ],
   "source": [
    "driver = biocypher.Driver(\n",
    "    offline=True,\n",
    "    user_schema_config_path=\"schema/BiologicalProcess.yaml\"\n",
    ")\n",
    "driver.write_nodes(BiologicalProcess_generator())\n",
    "\n",
    "driver.write_import_call()"
   ]
  },
  {
   "cell_type": "code",
   "execution_count": 42,
   "metadata": {},
   "outputs": [
    {
     "name": "stderr",
     "output_type": "stream",
     "text": [
      "INFO -- Offline mode: no connection to Neo4j.\n",
      "INFO -- Building Biolink schema and saving to cache. This step can sometimes take several minutes for reasons related to LinkML online functions. It is so far not clear what exactly causes it, but an issue has been opened at the source. Please try again shortly.\n",
      "INFO -- Creating BioLink model toolkit from default schema. Biolink model version: 3.0.3\n",
      "INFO -- Translating BioCypher config leaves to Biolink.\n",
      "INFO -- Creating output directory `c:\\Users\\dgg32\\Documents\\biocypher\\biocypher-out\\202302141553`.\n",
      "INFO -- Writing 6 entries to BiologicalProcess-part000.csv\n",
      "INFO -- Writing neo4j-admin import call to `c:\\Users\\dgg32\\Documents\\biocypher\\biocypher-out\\202302141553\\neo4j-admin-import-call.sh`.\n"
     ]
    },
    {
     "data": {
      "text/plain": [
       "True"
      ]
     },
     "execution_count": 42,
     "metadata": {},
     "output_type": "execute_result"
    }
   ],
   "source": [
    "driver = biocypher.Driver(\n",
    "    offline=True,\n",
    "    user_schema_config_path=\"schema/ActivityAndBehavior.yaml\"\n",
    ")\n",
    "driver.write_nodes(ActivityAndBehavior_generator())\n",
    "\n",
    "driver.write_import_call()"
   ]
  },
  {
   "cell_type": "code",
   "execution_count": 43,
   "metadata": {},
   "outputs": [
    {
     "data": {
      "text/html": [
       "<div>\n",
       "<style scoped>\n",
       "    .dataframe tbody tr th:only-of-type {\n",
       "        vertical-align: middle;\n",
       "    }\n",
       "\n",
       "    .dataframe tbody tr th {\n",
       "        vertical-align: top;\n",
       "    }\n",
       "\n",
       "    .dataframe thead th {\n",
       "        text-align: right;\n",
       "    }\n",
       "</style>\n",
       "<table border=\"1\" class=\"dataframe\">\n",
       "  <thead>\n",
       "    <tr style=\"text-align: right;\">\n",
       "      <th></th>\n",
       "      <th>id</th>\n",
       "      <th>subject</th>\n",
       "      <th>predicate</th>\n",
       "      <th>object</th>\n",
       "      <th>relation</th>\n",
       "      <th>knowledge_source</th>\n",
       "    </tr>\n",
       "  </thead>\n",
       "  <tbody>\n",
       "    <tr>\n",
       "      <th>0</th>\n",
       "      <td>urn:uuid:caf3d76a-238b-45e4-b035-21bd06fc236f</td>\n",
       "      <td>NCBITaxon:1252590</td>\n",
       "      <td>biolink:subclass_of</td>\n",
       "      <td>NCBITaxon:173037</td>\n",
       "      <td>rdfs:subClassOf</td>\n",
       "      <td>ncbitaxon.json</td>\n",
       "    </tr>\n",
       "    <tr>\n",
       "      <th>1</th>\n",
       "      <td>urn:uuid:5f9a85c8-9e39-4dfb-b88a-61b1083c452f</td>\n",
       "      <td>NCBITaxon:1252591</td>\n",
       "      <td>biolink:subclass_of</td>\n",
       "      <td>NCBITaxon:173037</td>\n",
       "      <td>rdfs:subClassOf</td>\n",
       "      <td>ncbitaxon.json</td>\n",
       "    </tr>\n",
       "    <tr>\n",
       "      <th>2</th>\n",
       "      <td>urn:uuid:c155a9c1-d864-4132-b327-2828b15b6c11</td>\n",
       "      <td>NCBITaxon:1252592</td>\n",
       "      <td>biolink:subclass_of</td>\n",
       "      <td>NCBITaxon:173037</td>\n",
       "      <td>rdfs:subClassOf</td>\n",
       "      <td>ncbitaxon.json</td>\n",
       "    </tr>\n",
       "    <tr>\n",
       "      <th>3</th>\n",
       "      <td>urn:uuid:30780ae1-cf9c-4887-bd8b-c4fdfc006b43</td>\n",
       "      <td>NCBITaxon:1252593</td>\n",
       "      <td>biolink:subclass_of</td>\n",
       "      <td>NCBITaxon:2633401</td>\n",
       "      <td>rdfs:subClassOf</td>\n",
       "      <td>ncbitaxon.json</td>\n",
       "    </tr>\n",
       "    <tr>\n",
       "      <th>4</th>\n",
       "      <td>urn:uuid:919806af-1c6c-4b0c-ae2a-0465c6bd0ff2</td>\n",
       "      <td>NCBITaxon:1252594</td>\n",
       "      <td>biolink:subclass_of</td>\n",
       "      <td>NCBITaxon:173037</td>\n",
       "      <td>rdfs:subClassOf</td>\n",
       "      <td>ncbitaxon.json</td>\n",
       "    </tr>\n",
       "  </tbody>\n",
       "</table>\n",
       "</div>"
      ],
      "text/plain": [
       "                                              id            subject  \\\n",
       "0  urn:uuid:caf3d76a-238b-45e4-b035-21bd06fc236f  NCBITaxon:1252590   \n",
       "1  urn:uuid:5f9a85c8-9e39-4dfb-b88a-61b1083c452f  NCBITaxon:1252591   \n",
       "2  urn:uuid:c155a9c1-d864-4132-b327-2828b15b6c11  NCBITaxon:1252592   \n",
       "3  urn:uuid:30780ae1-cf9c-4887-bd8b-c4fdfc006b43  NCBITaxon:1252593   \n",
       "4  urn:uuid:919806af-1c6c-4b0c-ae2a-0465c6bd0ff2  NCBITaxon:1252594   \n",
       "\n",
       "             predicate             object         relation knowledge_source  \n",
       "0  biolink:subclass_of   NCBITaxon:173037  rdfs:subClassOf   ncbitaxon.json  \n",
       "1  biolink:subclass_of   NCBITaxon:173037  rdfs:subClassOf   ncbitaxon.json  \n",
       "2  biolink:subclass_of   NCBITaxon:173037  rdfs:subClassOf   ncbitaxon.json  \n",
       "3  biolink:subclass_of  NCBITaxon:2633401  rdfs:subClassOf   ncbitaxon.json  \n",
       "4  biolink:subclass_of   NCBITaxon:173037  rdfs:subClassOf   ncbitaxon.json  "
      ]
     },
     "execution_count": 43,
     "metadata": {},
     "output_type": "execute_result"
    }
   ],
   "source": [
    "ncbitaxon_edges = pd.read_csv(ncbitaxon_edges_file, sep=\"\\t\")\n",
    "ncbitaxon_edges.head()"
   ]
  },
  {
   "cell_type": "code",
   "execution_count": 44,
   "metadata": {},
   "outputs": [],
   "source": [
    "def ncbitaxon_edge_generator():\n",
    "    for row in ncbitaxon_edges[(ncbitaxon_edges[\"predicate\"] == \"biolink:subclass_of\") & (~ncbitaxon_edges[\"object\"].str.startswith(\"OBO:\"))].itertuples():\n",
    "        yield (\n",
    "          f\"{row.subject}_{row.object}\",\n",
    "          row.subject,\n",
    "          row.object,\n",
    "          row.predicate,\n",
    "          {}\n",
    "        )"
   ]
  },
  {
   "cell_type": "code",
   "execution_count": 45,
   "metadata": {},
   "outputs": [
    {
     "name": "stderr",
     "output_type": "stream",
     "text": [
      "INFO -- Offline mode: no connection to Neo4j.\n",
      "INFO -- Building Biolink schema and saving to cache. This step can sometimes take several minutes for reasons related to LinkML online functions. It is so far not clear what exactly causes it, but an issue has been opened at the source. Please try again shortly.\n",
      "INFO -- Creating BioLink model toolkit from default schema. Biolink model version: 3.0.3\n",
      "INFO -- Translating BioCypher config leaves to Biolink.\n",
      "INFO -- Creating output directory `c:\\Users\\dgg32\\Documents\\biocypher\\biocypher-out\\202302141554`.\n",
      "INFO -- Writing 1000000 entries to Subclass_of-part000.csv\n",
      "INFO -- Writing 1000000 entries to Subclass_of-part001.csv\n",
      "INFO -- Writing 475682 entries to Subclass_of-part002.csv\n",
      "INFO -- Writing neo4j-admin import call to `c:\\Users\\dgg32\\Documents\\biocypher\\biocypher-out\\202302141554\\neo4j-admin-import-call.sh`.\n"
     ]
    },
    {
     "data": {
      "text/plain": [
       "True"
      ]
     },
     "execution_count": 45,
     "metadata": {},
     "output_type": "execute_result"
    }
   ],
   "source": [
    "driver = biocypher.Driver(\n",
    "    offline=True,\n",
    "    user_schema_config_path=\"schema/OrganismTaxon_OrganismTaxon.yaml\"\n",
    ")\n",
    "driver.write_edges(ncbitaxon_edge_generator())\n",
    "\n",
    "driver.write_import_call()"
   ]
  },
  {
   "cell_type": "code",
   "execution_count": 46,
   "metadata": {},
   "outputs": [
    {
     "data": {
      "text/html": [
       "<div>\n",
       "<style scoped>\n",
       "    .dataframe tbody tr th:only-of-type {\n",
       "        vertical-align: middle;\n",
       "    }\n",
       "\n",
       "    .dataframe tbody tr th {\n",
       "        vertical-align: top;\n",
       "    }\n",
       "\n",
       "    .dataframe thead th {\n",
       "        text-align: right;\n",
       "    }\n",
       "</style>\n",
       "<table border=\"1\" class=\"dataframe\">\n",
       "  <thead>\n",
       "    <tr style=\"text-align: right;\">\n",
       "      <th></th>\n",
       "      <th>subject</th>\n",
       "      <th>predicate</th>\n",
       "      <th>object</th>\n",
       "      <th>relation</th>\n",
       "    </tr>\n",
       "  </thead>\n",
       "  <tbody>\n",
       "    <tr>\n",
       "      <th>0</th>\n",
       "      <td>NCBITaxon:54261</td>\n",
       "      <td>biolink:capable_of</td>\n",
       "      <td>microtraits.pathways:nitrate_reduction</td>\n",
       "      <td>RO:0002215</td>\n",
       "    </tr>\n",
       "    <tr>\n",
       "      <th>1</th>\n",
       "      <td>NCBITaxon:2714</td>\n",
       "      <td>biolink:capable_of</td>\n",
       "      <td>microtraits.pathways:nitrate_reduction</td>\n",
       "      <td>RO:0002215</td>\n",
       "    </tr>\n",
       "    <tr>\n",
       "      <th>2</th>\n",
       "      <td>NCBITaxon:29466</td>\n",
       "      <td>biolink:capable_of</td>\n",
       "      <td>microtraits.pathways:nitrate_reduction</td>\n",
       "      <td>RO:0002215</td>\n",
       "    </tr>\n",
       "    <tr>\n",
       "      <th>3</th>\n",
       "      <td>NCBITaxon:266</td>\n",
       "      <td>biolink:capable_of</td>\n",
       "      <td>microtraits.pathways:nitrate_reduction</td>\n",
       "      <td>RO:0002215</td>\n",
       "    </tr>\n",
       "    <tr>\n",
       "      <th>4</th>\n",
       "      <td>NCBITaxon:36861</td>\n",
       "      <td>biolink:capable_of</td>\n",
       "      <td>microtraits.pathways:nitrate_reduction</td>\n",
       "      <td>RO:0002215</td>\n",
       "    </tr>\n",
       "  </tbody>\n",
       "</table>\n",
       "</div>"
      ],
      "text/plain": [
       "           subject           predicate  \\\n",
       "0  NCBITaxon:54261  biolink:capable_of   \n",
       "1   NCBITaxon:2714  biolink:capable_of   \n",
       "2  NCBITaxon:29466  biolink:capable_of   \n",
       "3    NCBITaxon:266  biolink:capable_of   \n",
       "4  NCBITaxon:36861  biolink:capable_of   \n",
       "\n",
       "                                   object    relation  \n",
       "0  microtraits.pathways:nitrate_reduction  RO:0002215  \n",
       "1  microtraits.pathways:nitrate_reduction  RO:0002215  \n",
       "2  microtraits.pathways:nitrate_reduction  RO:0002215  \n",
       "3  microtraits.pathways:nitrate_reduction  RO:0002215  \n",
       "4  microtraits.pathways:nitrate_reduction  RO:0002215  "
      ]
     },
     "execution_count": 46,
     "metadata": {},
     "output_type": "execute_result"
    }
   ],
   "source": [
    "trait_edges = pd.read_csv(trait_edge_file, sep=\"\\t\")\n",
    "trait_edges.head()"
   ]
  },
  {
   "cell_type": "code",
   "execution_count": 47,
   "metadata": {},
   "outputs": [],
   "source": [
    "# yield (\n",
    "#     interaction.get_id(),\n",
    "#     interaction.get_source_id(),\n",
    "#     interaction.get_target_id(),\n",
    "#     interaction.get_label(),\n",
    "#     interaction.get_properties(),\n",
    "# )\n",
    "\n",
    "\n",
    "def capable_of_generator():\n",
    "    for row in trait_edges[trait_edges[\"predicate\"] == \"biolink:capable_of\"].itertuples():\n",
    "        yield (\n",
    "          f\"{row.subject}_{row.object}\",\n",
    "          row.subject,\n",
    "          row.object,\n",
    "          row.predicate,\n",
    "          {}\n",
    "        )"
   ]
  },
  {
   "cell_type": "code",
   "execution_count": 48,
   "metadata": {},
   "outputs": [
    {
     "name": "stderr",
     "output_type": "stream",
     "text": [
      "INFO -- Offline mode: no connection to Neo4j.\n",
      "INFO -- Building Biolink schema and saving to cache. This step can sometimes take several minutes for reasons related to LinkML online functions. It is so far not clear what exactly causes it, but an issue has been opened at the source. Please try again shortly.\n",
      "INFO -- Creating BioLink model toolkit from default schema. Biolink model version: 3.0.3\n",
      "INFO -- Translating BioCypher config leaves to Biolink.\n",
      "INFO -- Creating output directory `c:\\Users\\dgg32\\Documents\\biocypher\\biocypher-out\\202302141556`.\n",
      "WARNING -- Duplicate edges found in type capable_of. \n",
      "INFO -- Writing 31922 entries to Capable_of-part000.csv\n",
      "INFO -- Writing neo4j-admin import call to `c:\\Users\\dgg32\\Documents\\biocypher\\biocypher-out\\202302141556\\neo4j-admin-import-call.sh`.\n"
     ]
    },
    {
     "data": {
      "text/plain": [
       "True"
      ]
     },
     "execution_count": 48,
     "metadata": {},
     "output_type": "execute_result"
    }
   ],
   "source": [
    "driver = biocypher.Driver(\n",
    "    offline=True,\n",
    "    user_schema_config_path=\"schema/OrganismTaxon_BiologicalProcess.yaml\"\n",
    ")\n",
    "driver.write_edges(capable_of_generator())\n",
    "driver.write_import_call()"
   ]
  },
  {
   "cell_type": "code",
   "execution_count": null,
   "metadata": {},
   "outputs": [],
   "source": []
  }
 ],
 "metadata": {
  "kernelspec": {
   "display_name": "biocypher",
   "language": "python",
   "name": "python3"
  },
  "language_info": {
   "codemirror_mode": {
    "name": "ipython",
    "version": 3
   },
   "file_extension": ".py",
   "mimetype": "text/x-python",
   "name": "python",
   "nbconvert_exporter": "python",
   "pygments_lexer": "ipython3",
   "version": "3.9.16"
  },
  "orig_nbformat": 4,
  "vscode": {
   "interpreter": {
    "hash": "2a68b2461a538383fd15090c84f6db2d26f62cbcbdcb0c389bbcfd45e06bcf0a"
   }
  }
 },
 "nbformat": 4,
 "nbformat_minor": 2
}
