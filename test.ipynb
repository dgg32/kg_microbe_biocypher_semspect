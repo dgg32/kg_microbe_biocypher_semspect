{
 "cells": [
  {
   "cell_type": "code",
   "execution_count": 1,
   "metadata": {},
   "outputs": [
    {
     "name": "stderr",
     "output_type": "stream",
     "text": [
      "INFO -- This is BioCypher v0.4.1.\n",
      "INFO -- Logging into `biocypher-log\\biocypher-20230214-130643.log`.\n"
     ]
    }
   ],
   "source": [
    "import biocypher\n",
    "import pandas as pd\n"
   ]
  },
  {
   "cell_type": "code",
   "execution_count": 2,
   "metadata": {},
   "outputs": [],
   "source": [
    "trait_node_file = \"C:\\\\Users\\\\dgg32\\\\Documents\\\\microbekg\\\\kg-microbe\\\\data\\\\transformed\\\\condensed_traits_NCBI\\\\nodes.tsv\"\n",
    "trait_edge_file = \"C:\\\\Users\\\\dgg32\\\\Documents\\\\microbekg\\\\kg-microbe\\\\data\\\\transformed\\\\condensed_traits_NCBI\\\\edges.tsv\""
   ]
  },
  {
   "cell_type": "code",
   "execution_count": 3,
   "metadata": {},
   "outputs": [
    {
     "data": {
      "text/html": [
       "<div>\n",
       "<style scoped>\n",
       "    .dataframe tbody tr th:only-of-type {\n",
       "        vertical-align: middle;\n",
       "    }\n",
       "\n",
       "    .dataframe tbody tr th {\n",
       "        vertical-align: top;\n",
       "    }\n",
       "\n",
       "    .dataframe thead th {\n",
       "        text-align: right;\n",
       "    }\n",
       "</style>\n",
       "<table border=\"1\" class=\"dataframe\">\n",
       "  <thead>\n",
       "    <tr style=\"text-align: right;\">\n",
       "      <th></th>\n",
       "      <th>id</th>\n",
       "      <th>name</th>\n",
       "      <th>category</th>\n",
       "      <th>match_description</th>\n",
       "    </tr>\n",
       "  </thead>\n",
       "  <tbody>\n",
       "    <tr>\n",
       "      <th>0</th>\n",
       "      <td>NCBITaxon:54261</td>\n",
       "      <td>Ferroglobus placidus</td>\n",
       "      <td>biolink:OrganismTaxon</td>\n",
       "      <td>NaN</td>\n",
       "    </tr>\n",
       "    <tr>\n",
       "      <th>1</th>\n",
       "      <td>microtraits.pathways:nitrate_reduction</td>\n",
       "      <td>nitrate reduction</td>\n",
       "      <td>biolink:BiologicalProcess</td>\n",
       "      <td>NaN</td>\n",
       "    </tr>\n",
       "    <tr>\n",
       "      <th>2</th>\n",
       "      <td>NCBITaxon:2714</td>\n",
       "      <td>Aquifex pyrophilus</td>\n",
       "      <td>biolink:OrganismTaxon</td>\n",
       "      <td>NaN</td>\n",
       "    </tr>\n",
       "    <tr>\n",
       "      <th>3</th>\n",
       "      <td>NCBITaxon:29466</td>\n",
       "      <td>Veillonella alcalescens</td>\n",
       "      <td>biolink:OrganismTaxon</td>\n",
       "      <td>NaN</td>\n",
       "    </tr>\n",
       "    <tr>\n",
       "      <th>4</th>\n",
       "      <td>NCBITaxon:266</td>\n",
       "      <td>Micrococcus denitrificans</td>\n",
       "      <td>biolink:OrganismTaxon</td>\n",
       "      <td>NaN</td>\n",
       "    </tr>\n",
       "  </tbody>\n",
       "</table>\n",
       "</div>"
      ],
      "text/plain": [
       "                                       id                       name  \\\n",
       "0                         NCBITaxon:54261       Ferroglobus placidus   \n",
       "1  microtraits.pathways:nitrate_reduction          nitrate reduction   \n",
       "2                          NCBITaxon:2714         Aquifex pyrophilus   \n",
       "3                         NCBITaxon:29466    Veillonella alcalescens   \n",
       "4                           NCBITaxon:266  Micrococcus denitrificans   \n",
       "\n",
       "                    category match_description  \n",
       "0      biolink:OrganismTaxon               NaN  \n",
       "1  biolink:BiologicalProcess               NaN  \n",
       "2      biolink:OrganismTaxon               NaN  \n",
       "3      biolink:OrganismTaxon               NaN  \n",
       "4      biolink:OrganismTaxon               NaN  "
      ]
     },
     "execution_count": 3,
     "metadata": {},
     "output_type": "execute_result"
    }
   ],
   "source": [
    "trait_nodes = pd.read_csv(trait_node_file, sep=\"\\t\")\n",
    "trait_nodes.head()"
   ]
  },
  {
   "cell_type": "code",
   "execution_count": 4,
   "metadata": {},
   "outputs": [],
   "source": [
    "def BiologicalProcess_generator():\n",
    "    for row in trait_nodes[trait_nodes[\"category\"] == \"biolink:BiologicalProcess\"].itertuples():\n",
    "        yield (\n",
    "          row.id,\n",
    "          row.category,\n",
    "          {\"name\": row.name}\n",
    "        )"
   ]
  },
  {
   "cell_type": "code",
   "execution_count": 18,
   "metadata": {},
   "outputs": [
    {
     "name": "stderr",
     "output_type": "stream",
     "text": [
      "INFO -- Offline mode: no connection to Neo4j.\n",
      "INFO -- Building Biolink schema and saving to cache. This step can sometimes take several minutes for reasons related to LinkML online functions. It is so far not clear what exactly causes it, but an issue has been opened at the source. Please try again shortly.\n",
      "INFO -- Creating BioLink model toolkit from default schema. Biolink model version: 3.0.3\n",
      "INFO -- Translating BioCypher config leaves to Biolink.\n",
      "INFO -- Creating output directory `c:\\Users\\dgg32\\Documents\\biocypher\\biocypher-out\\202302141510`.\n",
      "INFO -- Writing 100 entries to BiologicalProcess-part000.csv\n",
      "INFO -- Writing neo4j-admin import call to `c:\\Users\\dgg32\\Documents\\biocypher\\biocypher-out\\202302141510\\neo4j-admin-import-call.sh`.\n"
     ]
    },
    {
     "data": {
      "text/plain": [
       "True"
      ]
     },
     "execution_count": 18,
     "metadata": {},
     "output_type": "execute_result"
    }
   ],
   "source": [
    "driver = biocypher.Driver(\n",
    "    offline=True,\n",
    "    db_uri = \"bolt://localhost:7687\",\n",
    "    db_name='neo4j',\n",
    "    user_schema_config_path=\"schema/BiologicalProcess_copy.yaml\",\n",
    "    db_user = \"neo4j\",\n",
    "    db_passwd = \"password\",\n",
    ")\n",
    "driver.write_nodes(BiologicalProcess_generator())\n",
    "\n",
    "driver.write_import_call()"
   ]
  },
  {
   "cell_type": "code",
   "execution_count": 7,
   "metadata": {},
   "outputs": [
    {
     "data": {
      "text/html": [
       "<div>\n",
       "<style scoped>\n",
       "    .dataframe tbody tr th:only-of-type {\n",
       "        vertical-align: middle;\n",
       "    }\n",
       "\n",
       "    .dataframe tbody tr th {\n",
       "        vertical-align: top;\n",
       "    }\n",
       "\n",
       "    .dataframe thead th {\n",
       "        text-align: right;\n",
       "    }\n",
       "</style>\n",
       "<table border=\"1\" class=\"dataframe\">\n",
       "  <thead>\n",
       "    <tr style=\"text-align: right;\">\n",
       "      <th></th>\n",
       "      <th>subject</th>\n",
       "      <th>predicate</th>\n",
       "      <th>object</th>\n",
       "      <th>relation</th>\n",
       "    </tr>\n",
       "  </thead>\n",
       "  <tbody>\n",
       "    <tr>\n",
       "      <th>0</th>\n",
       "      <td>NCBITaxon:54261</td>\n",
       "      <td>biolink:capable_of</td>\n",
       "      <td>microtraits.pathways:nitrate_reduction</td>\n",
       "      <td>RO:0002215</td>\n",
       "    </tr>\n",
       "    <tr>\n",
       "      <th>1</th>\n",
       "      <td>NCBITaxon:2714</td>\n",
       "      <td>biolink:capable_of</td>\n",
       "      <td>microtraits.pathways:nitrate_reduction</td>\n",
       "      <td>RO:0002215</td>\n",
       "    </tr>\n",
       "    <tr>\n",
       "      <th>2</th>\n",
       "      <td>NCBITaxon:29466</td>\n",
       "      <td>biolink:capable_of</td>\n",
       "      <td>microtraits.pathways:nitrate_reduction</td>\n",
       "      <td>RO:0002215</td>\n",
       "    </tr>\n",
       "    <tr>\n",
       "      <th>3</th>\n",
       "      <td>NCBITaxon:266</td>\n",
       "      <td>biolink:capable_of</td>\n",
       "      <td>microtraits.pathways:nitrate_reduction</td>\n",
       "      <td>RO:0002215</td>\n",
       "    </tr>\n",
       "    <tr>\n",
       "      <th>4</th>\n",
       "      <td>NCBITaxon:36861</td>\n",
       "      <td>biolink:capable_of</td>\n",
       "      <td>microtraits.pathways:nitrate_reduction</td>\n",
       "      <td>RO:0002215</td>\n",
       "    </tr>\n",
       "  </tbody>\n",
       "</table>\n",
       "</div>"
      ],
      "text/plain": [
       "           subject           predicate  \\\n",
       "0  NCBITaxon:54261  biolink:capable_of   \n",
       "1   NCBITaxon:2714  biolink:capable_of   \n",
       "2  NCBITaxon:29466  biolink:capable_of   \n",
       "3    NCBITaxon:266  biolink:capable_of   \n",
       "4  NCBITaxon:36861  biolink:capable_of   \n",
       "\n",
       "                                   object    relation  \n",
       "0  microtraits.pathways:nitrate_reduction  RO:0002215  \n",
       "1  microtraits.pathways:nitrate_reduction  RO:0002215  \n",
       "2  microtraits.pathways:nitrate_reduction  RO:0002215  \n",
       "3  microtraits.pathways:nitrate_reduction  RO:0002215  \n",
       "4  microtraits.pathways:nitrate_reduction  RO:0002215  "
      ]
     },
     "execution_count": 7,
     "metadata": {},
     "output_type": "execute_result"
    }
   ],
   "source": [
    "trait_edges = pd.read_csv(trait_edge_file, sep=\"\\t\")\n",
    "trait_edges.head()"
   ]
  },
  {
   "cell_type": "code",
   "execution_count": 8,
   "metadata": {},
   "outputs": [],
   "source": [
    "def capable_of_generator():\n",
    "    for row in trait_edges[trait_edges[\"predicate\"] == \"biolink:capable_of\"].itertuples():\n",
    "        yield (\n",
    "          f\"{row.subject}_{row.object}\",\n",
    "          row.subject,\n",
    "          row.object,\n",
    "          row.predicate,\n",
    "          {}\n",
    "        )"
   ]
  },
  {
   "cell_type": "code",
   "execution_count": 17,
   "metadata": {},
   "outputs": [
    {
     "name": "stderr",
     "output_type": "stream",
     "text": [
      "INFO -- Offline mode: no connection to Neo4j.\n",
      "INFO -- Building Biolink schema and saving to cache. This step can sometimes take several minutes for reasons related to LinkML online functions. It is so far not clear what exactly causes it, but an issue has been opened at the source. Please try again shortly.\n",
      "INFO -- Creating BioLink model toolkit from default schema. Biolink model version: 3.0.3\n",
      "INFO -- Translating BioCypher config leaves to Biolink.\n",
      "INFO -- Creating output directory `c:\\Users\\dgg32\\Documents\\biocypher\\biocypher-out\\202302141459`.\n",
      "WARNING -- Duplicate edges found in type bpable_of. \n",
      "INFO -- Writing 31922 entries to Bpable_of-part000.csv\n",
      "INFO -- Writing neo4j-admin import call to `c:\\Users\\dgg32\\Documents\\biocypher\\biocypher-out\\202302141459\\neo4j-admin-import-call.sh`.\n"
     ]
    },
    {
     "data": {
      "text/plain": [
       "True"
      ]
     },
     "execution_count": 17,
     "metadata": {},
     "output_type": "execute_result"
    }
   ],
   "source": [
    "driver = biocypher.Driver(\n",
    "    offline=True,\n",
    "    db_uri = \"bolt://localhost:7687\",\n",
    "    db_name='neo4j',\n",
    "    user_schema_config_path=\"schema/OrganismTaxon_BiologicalProcess_copy.yaml\",\n",
    "    db_user = \"neo4j\",\n",
    "    db_passwd = \"password\",\n",
    ")\n",
    "driver.write_edges(capable_of_generator())\n",
    "driver.write_import_call()"
   ]
  },
  {
   "cell_type": "code",
   "execution_count": null,
   "metadata": {},
   "outputs": [],
   "source": []
  }
 ],
 "metadata": {
  "kernelspec": {
   "display_name": "biocypher",
   "language": "python",
   "name": "python3"
  },
  "language_info": {
   "codemirror_mode": {
    "name": "ipython",
    "version": 3
   },
   "file_extension": ".py",
   "mimetype": "text/x-python",
   "name": "python",
   "nbconvert_exporter": "python",
   "pygments_lexer": "ipython3",
   "version": "3.9.16"
  },
  "orig_nbformat": 4,
  "vscode": {
   "interpreter": {
    "hash": "2a68b2461a538383fd15090c84f6db2d26f62cbcbdcb0c389bbcfd45e06bcf0a"
   }
  }
 },
 "nbformat": 4,
 "nbformat_minor": 2
}
