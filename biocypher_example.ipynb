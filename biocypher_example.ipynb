{
 "cells": [
  {
   "cell_type": "code",
   "execution_count": 1,
   "metadata": {},
   "outputs": [
    {
     "name": "stderr",
     "output_type": "stream",
     "text": [
      "INFO -- This is BioCypher v0.5.35.\n",
      "INFO -- Logging into `biocypher-log/biocypher-20240106-232142.log`.\n"
     ]
    }
   ],
   "source": [
    "import biocypher"
   ]
  },
  {
   "cell_type": "code",
   "execution_count": 2,
   "metadata": {},
   "outputs": [],
   "source": [
    "from data_generator import Protein"
   ]
  },
  {
   "cell_type": "code",
   "execution_count": 3,
   "metadata": {},
   "outputs": [],
   "source": [
    "proteins = [Protein() for _ in range(10)]\n",
    "\n",
    "def node_generator():\n",
    "    for protein in proteins:\n",
    "        yield (\n",
    "          protein.get_id(), \n",
    "          protein.get_label(), \n",
    "          protein.get_properties()\n",
    "        )"
   ]
  },
  {
   "cell_type": "code",
   "execution_count": 4,
   "metadata": {},
   "outputs": [
    {
     "name": "stdout",
     "output_type": "stream",
     "text": [
      "('Y8P0N5', 'uniprot_protein', {'sequence': 'SQGFTVAYTDKCQVFHGYGSKADLPIWVYNTWFT', 'description': 'Lorem ipsum blfwg', 'taxon': '9606'})\n",
      "('U7J0O7', 'uniprot_protein', {'sequence': 'WHRGVNFWMERNILQTAIRNQQPFASAPWAQRPNIDLLMPSNYS', 'description': 'Lorem ipsum yfhbk', 'taxon': '9606'})\n",
      "('X2D2J1', 'uniprot_protein', {'sequence': 'LIWMPWFNITYEINMWMDGHELYMWAS', 'description': 'Lorem ipsum vpbcu', 'taxon': '9606'})\n",
      "('R0B1Q6', 'uniprot_protein', {'sequence': 'DACHSKDWYQQVGCRCSNRSFECETGSYKIWALNGIVFCVRCEPDSHAR', 'description': 'Lorem ipsum moqla', 'taxon': '9606'})\n",
      "('S1V4O3', 'uniprot_protein', {'sequence': 'YAWLKFSVEPACVQPLTQWI', 'description': 'Lorem ipsum zwvhd', 'taxon': '9606'})\n",
      "('U7S2Y0', 'uniprot_protein', {'sequence': 'TCGFKCFVSTKDARPYAHFFGYRWNPHQTWDISPTANM', 'description': 'Lorem ipsum vslqa', 'taxon': '9606'})\n",
      "('G8C4Y9', 'uniprot_protein', {'sequence': 'SIEGQAPIDLSYQANNCQHMDWWIAIVCGSE', 'description': 'Lorem ipsum eytkm', 'taxon': '9606'})\n",
      "('D0I3J5', 'uniprot_protein', {'sequence': 'SAKPQHTDGFPWRQGCECEDTGTFYTRKVFSTMVVPQ', 'description': 'Lorem ipsum tdwwr', 'taxon': '9606'})\n",
      "('R8M1Z9', 'uniprot_protein', {'sequence': 'ISPTAWGWMNLPTHWTVYSINWHCITKVEYTARIVVDGCIYEGNTVYYN', 'description': 'Lorem ipsum jkrqf', 'taxon': '9606'})\n",
      "('Y5Q1G6', 'uniprot_protein', {'sequence': 'SQQIFMLEDRVPSYMLNDACTQCGICCINTYCHDGT', 'description': 'Lorem ipsum pxkqx', 'taxon': '9606'})\n"
     ]
    }
   ],
   "source": [
    "for i in node_generator():\n",
    "    print(i)"
   ]
  },
  {
   "cell_type": "code",
   "execution_count": 6,
   "metadata": {},
   "outputs": [
    {
     "name": "stderr",
     "output_type": "stream",
     "text": [
      "INFO -- Loading ontologies...\n",
      "INFO -- Instantiating OntologyAdapter class for https://github.com/biolink/biolink-model/raw/v3.2.1/biolink-model.owl.ttl.\n",
      "INFO -- Creating output directory `/home/dgg32/Documents/kg_microbe_biocypher_semspect/biocypher-out/20240106232400`.\n",
      "INFO -- Writing 10 entries to Protein-part000.csv\n",
      "INFO -- Writing neo4j import call to `/home/dgg32/Documents/kg_microbe_biocypher_semspect/biocypher-out/20240106232400/neo4j-admin-import-call.sh`.\n"
     ]
    }
   ],
   "source": [
    "\n",
    "driver = biocypher.BioCypher(\n",
    "    offline=True,\n",
    "    schema_config_path=\"schema/protein.yaml\",\n",
    ")\n",
    "driver.write_nodes(node_generator())\n",
    "\n",
    "driver.write_import_call()"
   ]
  },
  {
   "cell_type": "code",
   "execution_count": null,
   "metadata": {},
   "outputs": [],
   "source": []
  }
 ],
 "metadata": {
  "kernelspec": {
   "display_name": "biocypher",
   "language": "python",
   "name": "python3"
  },
  "language_info": {
   "codemirror_mode": {
    "name": "ipython",
    "version": 3
   },
   "file_extension": ".py",
   "mimetype": "text/x-python",
   "name": "python",
   "nbconvert_exporter": "python",
   "pygments_lexer": "ipython3",
   "version": "3.11.7"
  },
  "orig_nbformat": 4,
  "vscode": {
   "interpreter": {
    "hash": "2a68b2461a538383fd15090c84f6db2d26f62cbcbdcb0c389bbcfd45e06bcf0a"
   }
  }
 },
 "nbformat": 4,
 "nbformat_minor": 2
}
