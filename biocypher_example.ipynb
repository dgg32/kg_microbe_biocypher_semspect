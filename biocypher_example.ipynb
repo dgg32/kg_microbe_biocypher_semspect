{
 "cells": [
  {
   "cell_type": "code",
   "execution_count": 1,
   "metadata": {},
   "outputs": [
    {
     "name": "stderr",
     "output_type": "stream",
     "text": [
      "INFO -- This is BioCypher v0.4.1.\n",
      "INFO -- Logging into `biocypher-log\\biocypher-20230212-115308.log`.\n"
     ]
    }
   ],
   "source": [
    "import biocypher"
   ]
  },
  {
   "cell_type": "code",
   "execution_count": 2,
   "metadata": {},
   "outputs": [],
   "source": [
    "from data_generator import Protein"
   ]
  },
  {
   "cell_type": "code",
   "execution_count": 3,
   "metadata": {},
   "outputs": [],
   "source": [
    "proteins = [Protein() for _ in range(10)]\n",
    "\n",
    "def node_generator():\n",
    "    for protein in proteins:\n",
    "        yield (\n",
    "          protein.get_id(), \n",
    "          protein.get_label(), \n",
    "          protein.get_properties()\n",
    "        )"
   ]
  },
  {
   "cell_type": "code",
   "execution_count": 4,
   "metadata": {},
   "outputs": [
    {
     "name": "stdout",
     "output_type": "stream",
     "text": [
      "('G4N8C7', 'uniprot_protein', {'sequence': 'GGYTWTWIDCAPFPWVWFNFRHMSNKDHKNCFITAGCVPDMLGQIMIMYGWFMDVEIAWSWKCNIEKDRSLIYMGHMYKQYLVSCHIITRFSDFFAYRQHKQIKEEPDEWLGCMRLVDFYGNNSSVRLVGTYPVLLMMKFQKNNQCDYRISWDEEDNGYHTYCMMQIIAGQPPIHDGASDAWGVATLEGQNSVNHLAGHEDWWPWYYMTSIGAGWGKITWDS', 'description': 'f q x x n a h r b k', 'taxon': '9606'})\n",
      "('I9A8E6', 'uniprot_protein', {'sequence': 'KFLFIICYKYRTMEYNPMYMHCMPCLESGQSGWRMQSFVQATTNQICSYDNLYHIAMWRAAITMECQMKIRSYNVIVRWWGNLIHPDFAFVAESKAADSPMWLVAQNGCPIMVVVMRQPWREEEQTDMTGWNDVNGLPEFPHRCLIRPQNNHRLLVHMDTIHWHIYY', 'description': 'f p b m q e m q y q', 'taxon': '9606'})\n",
      "('M7A6Q7', 'uniprot_protein', {'sequence': 'DMGLSTNRRHREQQQFKALIHQAYGVSQGDDFNVQNGDGAIWGRGWETECFSHEDSEDAVICLKPMQQCDALPCFYWKWGKGSASMPPYWDDDNSRFLAFGYGNSSSNKEFKGLRGRHDGTRFFFIQNK', 'description': 'h m i h d s c s x d', 'taxon': '9606'})\n",
      "('F7D0Z9', 'uniprot_protein', {'sequence': 'YYNIPKTFCAVMWNNLQMPCFLMAGCGCLYTKRYGSNFFSKCNRPHYCGPPRHTMFYVNVPCNNSSATPKCDEMLHCPESGHPRCMDGVNELWQELAYLSRPMWHCRDCTKPVYFPLQFYCFAEDLVPAMRCYLYLLPCRNKRHMLHIRQATIFNQAKAVRT', 'description': 'x g o m e k n m y l', 'taxon': '9606'})\n",
      "('N8M1B3', 'uniprot_protein', {'sequence': 'NEHEKPIQKISFKQYTDRAMSRTGPYLVPQTTPYCAMTMGIFCKNMDNGLGTYDPEAPRPLWGCPLRLLQIVFFVFELHAVYQNIRAAVGPWVAACSYAQAVRAPLSNDQVKWPNSWCIWNIFKEATVWIYQ', 'description': 'a f w i p l y h e r', 'taxon': '9606'})\n",
      "('L2Z6Y1', 'uniprot_protein', {'sequence': 'QSLDNHYYDWYHCKDSLIVYVTNTRLPTMGLFTHDKWCCAWKFCESRWAGPKPLPTYMKHKEYSSMNNHLQQCFMKMWMHQMVILLDGHSNEYVYYYKHMHSVHQQHGWYIPAHFQYAEVCIGCNVWFQGSDNIYITHIQNWNVMLMKTLWPRGHHRNNLEANSNPILCRAPSDAPT', 'description': 'o w g v i r m d l a', 'taxon': '9606'})\n",
      "('C3Y8S4', 'uniprot_protein', {'sequence': 'WYLEEGKELVTKPRMFMKFDPYGQHQFTQHPKVRFLETCGCQHRCFWVWCQ', 'description': 'm k g s q o f s j q', 'taxon': '9606'})\n",
      "('Z3T6E4', 'uniprot_protein', {'sequence': 'HFRHGATSIQEMYFRPSTFHGIACLNPTSAGWPNTREATPLWIPDCVNVVCDKIENPSMFCIREKGRNPNIDDHIAMPAQGLVHCMQCCYRVVLAWQLHRTFVKDPIERPINTHKFYIGMPLSWNQNLNLEARDSNPVDHNRLYSRVCDNLFPDAQTTCKSKYDGIEDWYKDCQP', 'description': 'd b u d k p d s z e', 'taxon': '9606'})\n",
      "('X9D7I5', 'uniprot_protein', {'sequence': 'YLASFNIREPYIPDWPKCYNAPAGFRRGFIIVNVGCWWHYCDSMNIRASPEGLCTWEDMLDNWTWFAHMMTMKHFKWCGSSAVYWEHDKKQFLVDSIVHNETHRVTRVHTISKYYWARTTSESNGGWQGPHPWCTAHVRQK', 'description': 'b a o h e y t b f h', 'taxon': '9606'})\n",
      "('B6I6A5', 'uniprot_protein', {'sequence': 'NGEEHNQCIVSMHTECCWWCWSMFAQELCYLLTRLVFRPCHAPNGVSVSAIEAVALEIFRFANWYEWHSFVTKRLIQMRPYCFIRLSMHQNHQIQRESEDMCIKEIVQLHEEAWEYFWPESYDQYYVDC', 'description': 't g n o d s a g u h', 'taxon': '9606'})\n"
     ]
    }
   ],
   "source": [
    "for i in node_generator():\n",
    "    print(i)"
   ]
  },
  {
   "cell_type": "code",
   "execution_count": 9,
   "metadata": {},
   "outputs": [
    {
     "name": "stderr",
     "output_type": "stream",
     "text": [
      "INFO -- Offline mode: no connection to Neo4j.\n",
      "INFO -- Building Biolink schema and saving to cache. This step can sometimes take several minutes for reasons related to LinkML online functions. It is so far not clear what exactly causes it, but an issue has been opened at the source. Please try again shortly.\n",
      "INFO -- Creating BioLink model toolkit from default schema. Biolink model version: 3.0.3\n",
      "INFO -- Translating BioCypher config leaves to Biolink.\n",
      "INFO -- Creating output directory `c:\\Users\\dgg32\\Documents\\biocypher\\biocypher-out\\202302101200`.\n",
      "INFO -- Writing 10 entries to Protein-part000.csv\n",
      "INFO -- Writing neo4j-admin import call to `c:\\Users\\dgg32\\Documents\\biocypher\\biocypher-out\\202302101200\\neo4j-admin-import-call.sh`.\n"
     ]
    },
    {
     "data": {
      "text/plain": [
       "True"
      ]
     },
     "execution_count": 9,
     "metadata": {},
     "output_type": "execute_result"
    }
   ],
   "source": [
    "\n",
    "driver = biocypher.Driver(\n",
    "    offline=True,\n",
    "    db_uri = \"bolt://localhost:7687\",\n",
    "    db_name='neo4j',\n",
    "    user_schema_config_path=\"schema/protein.yaml\",\n",
    "    db_user = \"neo4j\",\n",
    "    db_passwd = \"password\",\n",
    ")\n",
    "driver.write_nodes(node_generator())\n",
    "\n",
    "driver.write_import_call()"
   ]
  },
  {
   "cell_type": "code",
   "execution_count": null,
   "metadata": {},
   "outputs": [],
   "source": []
  }
 ],
 "metadata": {
  "kernelspec": {
   "display_name": "biocypher",
   "language": "python",
   "name": "python3"
  },
  "language_info": {
   "codemirror_mode": {
    "name": "ipython",
    "version": 3
   },
   "file_extension": ".py",
   "mimetype": "text/x-python",
   "name": "python",
   "nbconvert_exporter": "python",
   "pygments_lexer": "ipython3",
   "version": "3.9.16"
  },
  "orig_nbformat": 4,
  "vscode": {
   "interpreter": {
    "hash": "2a68b2461a538383fd15090c84f6db2d26f62cbcbdcb0c389bbcfd45e06bcf0a"
   }
  }
 },
 "nbformat": 4,
 "nbformat_minor": 2
}
